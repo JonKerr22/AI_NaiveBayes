{
 "cells": [
  {
   "cell_type": "code",
   "execution_count": 1,
   "metadata": {
    "collapsed": false,
    "deletable": true,
    "editable": true
   },
   "outputs": [],
   "source": [
    "import math\n",
    "import pandas as pd\n",
    "import numpy as np\n",
    "\n",
    "#this number can be played with for new results if we have time\n",
    "SMOOTHING_FACTOR = 0.1\n",
    "NUM_ROWS = 25\n",
    "NUM_COLS = 10\n",
    "\n",
    "class Dataset:\n",
    "    def __init__(self, audio_file, word):\n",
    "        self.images = []\n",
    "        self.size = 0\n",
    "        self.words = []\n",
    "        with open(audio_file) as file:\n",
    "            EOF = False\n",
    "            while not EOF:\n",
    "                image = []\n",
    "                for i in range(NUM_ROWS):\n",
    "                    line = file.readline()\n",
    "                    if not line:\n",
    "                        EOF = True\n",
    "                        break\n",
    "                    image.append(list(line))\n",
    "                if EOF:\n",
    "                    break\n",
    "                else:\n",
    "                    for i in range(3):\n",
    "                        line = file.readline()\n",
    "                    self.size += 1\n",
    "                    self.words.append(word)\n",
    "                    self.images.append(image)\n",
    "    def display(self, i):\n",
    "        print(\"\".join(map(lambda x: \"\".join(x),self.images[i])))\n",
    "        \n",
    "class Classifier:\n",
    "    def __init__(self, word, countMap, prior):\n",
    "        self.word = word\n",
    "        self.prior = prior\n",
    "        self.countMap = countMap\n",
    "        \n",
    "    def evaluate_likelihood(self, image):\n",
    "        total = math.log10(self.prior)\n",
    "        for i in range(NUM_ROWS):\n",
    "            for j in range(NUM_COLS):\n",
    "                partial_eval = self.single_probability(i, j, image[i][j])\n",
    "                total += math.log10(partial_eval)\n",
    "        return total\n",
    "    \n",
    "    def printImage(self, image):\n",
    "        print(\"\".join(map(lambda x: \"\".join(x),image)))\n",
    "    \n",
    "    def single_probability(self, x, y, testPixel):\n",
    "        if(testPixel == '%'):\n",
    "            #testVal = 0\n",
    "            #number of times a pixel is 0 from all the training examples\n",
    "            instances = self.countMap.totalExamples - self.countMap.count[x][y]\n",
    "            return float(instances / self.countMap.totalExamples)\n",
    "        elif testPixel == ' ':\n",
    "            #testVal = 1\n",
    "            instances = self.countMap.count[x][y]\n",
    "            return float(instances / self.countMap.totalExamples)\n",
    "        \n",
    "class countMap:\n",
    "    def __init__(self, word):\n",
    "        self.word = word\n",
    "        self.count = [[SMOOTHING_FACTOR for i in range(NUM_COLS)] for j in range(NUM_ROWS)]\n",
    "        self.totalExamples = 2*SMOOTHING_FACTOR\n",
    "    \n",
    "    def add_counts(self, image):\n",
    "        self.totalExamples += 1\n",
    "        for i in range(NUM_ROWS):\n",
    "            for j in range(NUM_COLS):\n",
    "                if(image[i][j] == ' '):\n",
    "                    self.count[i][j] += 1\n",
    "                    \n",
    "    def labelProbability(self, trainingSetSize):\n",
    "        return (self.totalExamples-2*SMOOTHING_FACTOR) / trainingSetSize"
   ]
  },
  {
   "cell_type": "code",
   "execution_count": 2,
   "metadata": {
    "collapsed": false,
    "deletable": true,
    "editable": true
   },
   "outputs": [],
   "source": [
    "yesData = Dataset(\"yes_train.txt\", \"yes\")\n",
    "noData = Dataset(\"no_train.txt\", \"no\")"
   ]
  },
  {
   "cell_type": "code",
   "execution_count": 3,
   "metadata": {
    "collapsed": false,
    "deletable": true,
    "editable": true
   },
   "outputs": [],
   "source": [
    "yesMap = countMap(\"yes\")\n",
    "noMap = countMap(\"no\")\n",
    "\n",
    "for i in range(len(yesData.images)):\n",
    "    yesMap.add_counts(yesData.images[i])\n",
    "    \n",
    "for i in range(len(noData.images)):\n",
    "    noMap.add_counts(noData.images[i])"
   ]
  },
  {
   "cell_type": "code",
   "execution_count": 4,
   "metadata": {
    "collapsed": false
   },
   "outputs": [],
   "source": [
    "yesTest = Dataset(\"yes_test.txt\", \"yes\")\n",
    "noTest = Dataset(\"no_test.txt\", \"no\")\n",
    "\n",
    "testData = Dataset(\"yes_test.txt\", \"yes\")\n",
    "testData.images += noTest.images\n",
    "testData.size += noTest.size\n",
    "testData.words += noTest.words"
   ]
  },
  {
   "cell_type": "code",
   "execution_count": 5,
   "metadata": {
    "collapsed": true
   },
   "outputs": [],
   "source": [
    "classifiers = [None]*2\n",
    "classifiers[0] = Classifier(\"yes\", yesMap, yesMap.labelProbability(yesData.size))\n",
    "classifiers[1] = Classifier(\"no\", noMap, noMap.labelProbability(noData.size))"
   ]
  },
  {
   "cell_type": "code",
   "execution_count": 6,
   "metadata": {
    "collapsed": false
   },
   "outputs": [],
   "source": [
    "predictions = []\n",
    "#save indices in test data for max and min values from eval function for each word\n",
    "#initialized with the first time that word shows up in the test file\n",
    "maxes = [0, yesTest.size]\n",
    "mins = [0, yesTest.size]\n",
    "idx = 0\n",
    "wordIdx = 0\n",
    "for image in testData.images:\n",
    "    chances = [0]*2\n",
    "    for i in range(2):\n",
    "        chances[i] = classifiers[i].evaluate_likelihood(image)\n",
    "    label = chances.index(max(chances))\n",
    "    predictions.append(label)\n",
    "    \n",
    "    word = testData.words[idx]\n",
    "    if word == \"yes\":\n",
    "        actualLabel = 0\n",
    "    else:\n",
    "        actualLabel = 1\n",
    "    currEval = chances[actualLabel]\n",
    "    prevMax = classifiers[actualLabel].evaluate_likelihood(testData.images[maxes[actualLabel]])\n",
    "    prevMin = classifiers[actualLabel].evaluate_likelihood(testData.images[mins[actualLabel]])\n",
    "    if(currEval >= prevMax):\n",
    "        maxes[actualLabel] = idx\n",
    "    if(currEval <= prevMin):\n",
    "        mins[actualLabel] = idx\n",
    "    \n",
    "    idx += 1"
   ]
  },
  {
   "cell_type": "code",
   "execution_count": 7,
   "metadata": {
    "collapsed": false
   },
   "outputs": [
    {
     "name": "stdout",
     "output_type": "stream",
     "text": [
      "max posterior for digit: yes\n",
      "% %   % %%\n",
      "        %%\n",
      "        %%\n",
      "       %%%\n",
      "      %%%%\n",
      "%       %%\n",
      "%      %%%\n",
      "%%%% %%%%%\n",
      "%%%%%%%%%%\n",
      "%%%%%%%%%%\n",
      "%%%%%%%%%%\n",
      "%%%%%%%%%%\n",
      "%%%%%%%%%%\n",
      "%%%%%%%%%%\n",
      "%%%% %%%%%\n",
      "%%% %%%%%%\n",
      "%%% %%%%%%\n",
      "%% %%%%%%%\n",
      "%%%%%%%%%%\n",
      "%%%%%%%%%%\n",
      "%%%%%%%%%%\n",
      "%%%%%%%%%%\n",
      "%%%%%%%%%%\n",
      "%%%%%%%%%%\n",
      "%%  %%%%%%\n",
      "\n",
      "max posterior for digit: no\n",
      "% %   % %%\n",
      "        %%\n",
      "        %%\n",
      "        %%\n",
      "      % %%\n",
      "%%      % \n",
      "%%        \n",
      "%%%    %%%\n",
      "%%%%%%%%%%\n",
      "%%%%%% %%%\n",
      "%%%%%% %%%\n",
      "%%%%%% %%%\n",
      "%%%%%%%%%%\n",
      "%%%%%%%%%%\n",
      "%%%%%%%%%%\n",
      "%%%%%%%%%%\n",
      "%%%%%%%%%%\n",
      "%%%%%%%%%%\n",
      "%%%%%%%%%%\n",
      "%%%%%%%%%%\n",
      "%%%%%%%%%%\n",
      "%%%%%%%%%%\n",
      "%%%%%%%%%%\n",
      "%%%%%%%%%%\n",
      "%%%%%%%%%%\n",
      "\n"
     ]
    }
   ],
   "source": [
    "idx = 0\n",
    "currWord = \"yes\"\n",
    "for MAX in maxes:\n",
    "    print(\"max posterior for digit: \" + currWord)\n",
    "    testData.display(MAX)\n",
    "    idx+=1\n",
    "    currWord = \"no\""
   ]
  },
  {
   "cell_type": "code",
   "execution_count": 8,
   "metadata": {
    "collapsed": false
   },
   "outputs": [
    {
     "name": "stdout",
     "output_type": "stream",
     "text": [
      "min posterior for digit: yes\n",
      "%%% %%    \n",
      " %%       \n",
      "%%%       \n",
      "%%%       \n",
      "%%%       \n",
      "%%%     % \n",
      "%%%%%     \n",
      "%%%%%%% %%\n",
      "%%%%%%%  %\n",
      "%%%%%%%%%%\n",
      "%%%%%%%%%%\n",
      "%%%%%%%%%%\n",
      "%%%%%%%%%%\n",
      "%%%% %%  %\n",
      "%%%% %    \n",
      "%%%%      \n",
      "%%%%  %  %\n",
      "%%%%    %%\n",
      "%%%%%  %%%\n",
      "%%%%%%%%%%\n",
      "%%%%%%%%%%\n",
      "%%%%%%%%%%\n",
      "%%%%%%%%%%\n",
      "%%%%%  %%%\n",
      "%%%%  % %%\n",
      "\n",
      "min posterior for digit: no\n",
      "% %%      \n",
      "%%%%      \n",
      "%%%%      \n",
      "%%%%      \n",
      "%%%%     %\n",
      "%%%%      \n",
      "%%%%      \n",
      "%%%%%%%%%%\n",
      "%%%%%%%%%%\n",
      "%%%%%%%%%%\n",
      "%%%%%%%%%%\n",
      "%%%%%%%%%%\n",
      "%%%%%%%%%%\n",
      "%%%%%%%% %\n",
      "%%%%%% % %\n",
      "%%%%%    %\n",
      "%%%%%   %%\n",
      "%%%%%% %%%\n",
      "%%%%  %%%%\n",
      "%%%%%%%%%%\n",
      "%%%%%%%%%%\n",
      "%%%%%%%%%%\n",
      "%%%%%%%%%%\n",
      "%%%%%%%%%%\n",
      "%%%%% %%%%\n",
      "\n"
     ]
    }
   ],
   "source": [
    "idx = 0\n",
    "currWord = \"yes\"\n",
    "for MIN in mins:\n",
    "    print(\"min posterior for digit: \" + currWord)\n",
    "    testData.display(MIN)\n",
    "    idx+=1\n",
    "    currWord = \"no\""
   ]
  },
  {
   "cell_type": "code",
   "execution_count": 9,
   "metadata": {
    "collapsed": false
   },
   "outputs": [],
   "source": [
    "wrongs = [0]*2\n",
    "raw_counts = [[0 for i in range(2)] for j in range(2)]\n",
    "for i in range(len(predictions)):\n",
    "    if testData.words[i] == \"yes\":\n",
    "        label = 0\n",
    "    else:\n",
    "        label = 1\n",
    "    if predictions[i] != label:\n",
    "        wrongs[predictions[i]] +=1\n",
    "    raw_counts[label][predictions[i]] +=1"
   ]
  },
  {
   "cell_type": "code",
   "execution_count": 10,
   "metadata": {
    "collapsed": false
   },
   "outputs": [
    {
     "name": "stdout",
     "output_type": "stream",
     "text": [
      "yes success rate: 97.85714285714286\n",
      "no success rate: 99.28571428571429\n",
      "\n",
      "confusion matrix\n",
      "\n"
     ]
    }
   ],
   "source": [
    "print(\"yes success rate: \" + str(100-(100*(wrongs[0]/(yesMap.totalExamples-2*SMOOTHING_FACTOR)))))\n",
    "print(\"no success rate: \" + str(100-(100*(wrongs[1]/(yesMap.totalExamples-2*SMOOTHING_FACTOR)))))\n",
    "\n",
    "print(\"\\nconfusion matrix\\n\")"
   ]
  },
  {
   "cell_type": "code",
   "execution_count": 11,
   "metadata": {
    "collapsed": false
   },
   "outputs": [],
   "source": [
    "counts_df = pd.DataFrame(np.array(raw_counts))"
   ]
  },
  {
   "cell_type": "code",
   "execution_count": 12,
   "metadata": {
    "collapsed": false
   },
   "outputs": [
    {
     "name": "stdout",
     "output_type": "stream",
     "text": [
      "      0     1\n",
      "0  0.98  0.02\n",
      "1  0.06  0.94\n"
     ]
    }
   ],
   "source": [
    "confusion_matrix = counts_df.apply(lambda x: x/np.sum(x), axis=1)\n",
    "print(confusion_matrix.round(2))"
   ]
  },
  {
   "cell_type": "code",
   "execution_count": null,
   "metadata": {
    "collapsed": true
   },
   "outputs": [],
   "source": []
  }
 ],
 "metadata": {
  "kernelspec": {
   "display_name": "Python 3",
   "language": "python",
   "name": "python3"
  },
  "language_info": {
   "codemirror_mode": {
    "name": "ipython",
    "version": 3
   },
   "file_extension": ".py",
   "mimetype": "text/x-python",
   "name": "python",
   "nbconvert_exporter": "python",
   "pygments_lexer": "ipython3",
   "version": "3.5.2"
  }
 },
 "nbformat": 4,
 "nbformat_minor": 2
}
