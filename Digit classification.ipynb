{
 "cells": [
  {
   "cell_type": "code",
   "execution_count": 31,
   "metadata": {},
   "outputs": [],
   "source": [
    "#this number can be played with for new results if we have time\n",
    "SMOOTHING_FACTOR = 0.5\n",
    "\n",
    "class Dataset:\n",
    "    def __init__(self, images_file, labels_file, lines_per_image = 28):\n",
    "        self.images = []\n",
    "        self.labels = []\n",
    "        self.images_by_label = {}\n",
    "        self.priors = {}\n",
    "        with open(images_file) as file:\n",
    "            EOF = False\n",
    "            while not EOF:\n",
    "                image = []\n",
    "                for i in range(lines_per_image):\n",
    "                    line = file.readline()\n",
    "                    if not line:\n",
    "                        EOF = True\n",
    "                        break\n",
    "                    image.append(list(line))\n",
    "                if EOF:\n",
    "                    break\n",
    "                self.images.append(image)\n",
    "        with open(labels_file) as file:\n",
    "            for line in file:\n",
    "                self.labels.append(line)\n",
    "class Classifier:\n",
    "    def __init__(self, images, label):\n",
    "        self.images = images\n",
    "        self.label = label\n",
    "        \n",
    "    def evaluate_likelihood(self, image):\n",
    "        return 0\n",
    "        \n",
    "class HeatMap:\n",
    "    def __init__(self, label, mapSize = 28):\n",
    "        self.hMap = [[0 for i in range(mapSize)] for j in range(mapSize)]\n",
    "        self.label = label\n",
    "        self.mapSize = mapSize\n",
    "        self.totalExamples = 0\n",
    "                    \n",
    "    def printHMap(self):\n",
    "        print(\"Heat map for digit: \" + str(self.label) + \"from \" + str(self.totalExamples) + \" examples\")\n",
    "        for i in range(self.mapSize):\n",
    "            print(self.hMap[i])\n",
    "\n",
    "    def addToHMap(self, image):\n",
    "        self.totalExamples += 1\n",
    "        for i in range(self.mapSize):\n",
    "            for j in range(self.mapSize):\n",
    "                if(image[i][j] != ' '):\n",
    "                    self.hMap[i][j] += 1\n",
    "    \n",
    "    def smoothHMap(self):\n",
    "        denominator = SMOOTHING_FACTOR * self.totalExamples\n",
    "        for i in range(self.mapSize):\n",
    "            for j in range(self.mapSize):\n",
    "                numerator = self.hMap[i][j] + SMOOTHING_FACTOR\n",
    "                self.hMap[i][j] = numerator / denominator\n",
    "                \n",
    "    def labelProbability(self, trainingSetSize = 5000):\n",
    "        return self.totalExamples / trainingSetSize\n",
    "\n",
    "            \n",
    "        "
   ]
  },
  {
   "cell_type": "code",
   "execution_count": 32,
   "metadata": {},
   "outputs": [],
   "source": [
    "dataset = Dataset(\"trainingimages\",\"traininglabels\")"
   ]
  },
  {
   "cell_type": "code",
   "execution_count": 33,
   "metadata": {},
   "outputs": [
    {
     "name": "stdout",
     "output_type": "stream",
     "text": [
      "#\n",
      "5000\n",
      "5\n",
      "\n"
     ]
    }
   ],
   "source": [
    "print(dataset.images[0][7][13])\n",
    "print(len(dataset.images))\n",
    "print(dataset.labels[0])"
   ]
  },
  {
   "cell_type": "code",
   "execution_count": 34,
   "metadata": {},
   "outputs": [],
   "source": [
    "digitHMaps = [None]*10\n",
    "for i in range(0,10):\n",
    "    digitHMaps[i] = HeatMap(i)\n",
    "\n",
    "for i  in range(len(dataset.images)):\n",
    "    currLabel = int(dataset.labels[i])\n",
    "    digitHMaps[currLabel].addToHMap(dataset.images[i])\n",
    "    \n",
    "for i in range(0,10):\n",
    "    digitHMaps[i].smoothHMap()\n",
    "    #print(str(100* digitHMaps[i].labelProbability(len(dataset.images))) + '%')\n",
    "\n"
   ]
  },
  {
   "cell_type": "code",
   "execution_count": null,
   "metadata": {},
   "outputs": [],
   "source": []
  }
 ],
 "metadata": {
  "kernelspec": {
   "display_name": "Python 3",
   "language": "python",
   "name": "python3"
  },
  "language_info": {
   "codemirror_mode": {
    "name": "ipython",
    "version": 3
   },
   "file_extension": ".py",
   "mimetype": "text/x-python",
   "name": "python",
   "nbconvert_exporter": "python",
   "pygments_lexer": "ipython3",
   "version": "3.5.2"
  }
 },
 "nbformat": 4,
 "nbformat_minor": 2
}
