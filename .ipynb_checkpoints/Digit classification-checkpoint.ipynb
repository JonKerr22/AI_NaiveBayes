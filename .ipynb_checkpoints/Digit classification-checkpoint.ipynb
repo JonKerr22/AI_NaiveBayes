{
 "cells": [
  {
   "cell_type": "code",
   "execution_count": 36,
   "metadata": {},
   "outputs": [],
   "source": [
    "import math\n",
    "\n",
    "#this number can be played with for new results if we have time\n",
    "SMOOTHING_FACTOR = 0.9\n",
    "\n",
    "class Dataset:\n",
    "    def __init__(self, images_file, labels_file, lines_per_image = 28):\n",
    "        self.images = []\n",
    "        self.labels = []\n",
    "        self.images_by_label = {}\n",
    "        self.priors = {}\n",
    "        with open(images_file) as file:\n",
    "            EOF = False\n",
    "            while not EOF:\n",
    "                image = []\n",
    "                for i in range(lines_per_image):\n",
    "                    line = file.readline()\n",
    "                    if not line:\n",
    "                        EOF = True\n",
    "                        break\n",
    "                    image.append(list(line))\n",
    "                if EOF:\n",
    "                    break\n",
    "                self.images.append(image)\n",
    "        with open(labels_file) as file:\n",
    "            for line in file:\n",
    "                self.labels.append(line)\n",
    "    def display(self, i):\n",
    "        print(\"\".join(map(lambda x: \"\".join(x),self.images[i])))\n",
    "class Classifier:\n",
    "    def __init__(self, label, hMap, prior):\n",
    "        self.label = label\n",
    "        self.hMap = hMap\n",
    "        self.prior = prior\n",
    "    \n",
    "    #where should I compare the smoothed heatmap to the input image??\n",
    "    def evaluate_likelihood(self, image):\n",
    "        total = math.log10(self.prior)\n",
    "        for i in range(self.hMap.mapSize):\n",
    "            for j in range(self.hMap.mapSize):\n",
    "                partial_eval = self.single_probability(i, j, image[i][j])\n",
    "                if(partial_eval <= 0):\n",
    "                    print(\"bad eval, can't take log at spot: \" + str(i) + \", \" + str(j))\n",
    "                    self.printImage(image)\n",
    "                else:\n",
    "                    y=0\n",
    "                    #print(\"valid logarithm\")\n",
    "                total += math.log10(partial_eval)\n",
    "        return total\n",
    "    \n",
    "    def printImage(self, image):\n",
    "        print(\"\".join(map(lambda x: \"\".join(x),image)))\n",
    "    \n",
    "    def single_probability(self, x, y, testPixel):\n",
    "        if(testPixel == ' '):\n",
    "            #testVal = 0\n",
    "            #number of times a pixel is 0 from all the training examples\n",
    "            instances = self.hMap.totalExamples - self.hMap.hMap_count[x][y]\n",
    "            return float(instances / self.hMap.totalExamples)\n",
    "        elif testPixel != \"\\n\":\n",
    "            #testVal = 1\n",
    "            instances = self.hMap.hMap_count[x][y]\n",
    "            return float(instances / self.hMap.totalExamples)\n",
    "            \n",
    "            \n",
    "class HeatMap:\n",
    "    def __init__(self, label, mapSize = 28):\n",
    "        #initially blank, smoothing will be added later\n",
    "        self.hMap_count = [[SMOOTHING_FACTOR for i in range(mapSize)] for j in range(mapSize)]\n",
    "        self.label = label\n",
    "        self.mapSize = mapSize\n",
    "        self.totalExamples = 2*SMOOTHING_FACTOR\n",
    "                    \n",
    "    def printHMap(self, smoothed = True):\n",
    "        print(\"Heat map for digit: \" + str(self.label) + \" from \" + str(self.totalExamples) + \" examples\")\n",
    "        for i in range(self.mapSize):\n",
    "            if smoothed:\n",
    "                toPrint = \"\"\n",
    "                for j in range(self.mapSize):\n",
    "                    if self.hMap_count[i][j] < 1:\n",
    "                        toPrint += \" \"\n",
    "                    elif self.hMap_count[i][j] < 80:\n",
    "                        toPrint += \"*\"\n",
    "                    else:\n",
    "                        toPrint += \"X\"\n",
    "                print(toPrint)\n",
    "                \n",
    "            else:\n",
    "                toPrint = \"\"\n",
    "                for j in range(self.mapSize):\n",
    "                    if self.hMap_count[i][j] < 3:\n",
    "                        toPrint += \" \"\n",
    "                    elif self.hMap_count[i][j] < 80:\n",
    "                        toPrint += \"*\"\n",
    "                    else:\n",
    "                        toPrint += \"X\"\n",
    "                print(toPrint)\n",
    "\n",
    "    def addToHMap(self, image):\n",
    "        self.totalExamples += 1\n",
    "        for i in range(self.mapSize):\n",
    "            for j in range(self.mapSize):\n",
    "                if(image[i][j] != ' '):\n",
    "                    self.hMap_count[i][j] += 1\n",
    "                \n",
    "    def labelProbability(self, trainingSetSize = 5000):\n",
    "        return (self.totalExamples-2*SMOOTHING_FACTOR) / trainingSetSize\n",
    "    \n",
    "    def goodHMap(self):\n",
    "        for i in range(self.mapSize):\n",
    "            for j in range(self.mapSize):\n",
    "                if(self.hMap_smoothed[i][j] <= 0):\n",
    "                    return False\n",
    "        \n",
    "        return True\n",
    "\n",
    "            \n",
    "        "
   ]
  },
  {
   "cell_type": "code",
   "execution_count": 37,
   "metadata": {},
   "outputs": [],
   "source": [
    "dataset = Dataset(\"trainingimages\",\"traininglabels\")"
   ]
  },
  {
   "cell_type": "code",
   "execution_count": 38,
   "metadata": {},
   "outputs": [],
   "source": [
    "digitHMaps = [None]*10\n",
    "for i in range(0,10):\n",
    "    digitHMaps[i] = HeatMap(i)\n",
    "\n",
    "for i  in range(len(dataset.images)):\n",
    "    currLabel = int(dataset.labels[i])\n",
    "    digitHMaps[currLabel].addToHMap(dataset.images[i])  \n",
    "    \n"
   ]
  },
  {
   "cell_type": "code",
   "execution_count": 39,
   "metadata": {},
   "outputs": [],
   "source": [
    "testData = Dataset(\"testimages\",\"testlabels\")"
   ]
  },
  {
   "cell_type": "code",
   "execution_count": 40,
   "metadata": {},
   "outputs": [],
   "source": [
    "classifiers = [None]*10\n",
    "for i in range(0,10):\n",
    "    classifiers[i] = Classifier(i, digitHMaps[i], digitHMaps[i].labelProbability())\n",
    "    "
   ]
  },
  {
   "cell_type": "code",
   "execution_count": 41,
   "metadata": {},
   "outputs": [
    {
     "name": "stdout",
     "output_type": "stream",
     "text": [
      "0.9999999999999999\n",
      "[[0.9, 0.9, 0.9, 0.9, 0.9, 0.9, 0.9, 0.9, 0.9, 0.9, 0.9, 0.9, 0.9, 0.9, 0.9, 0.9, 0.9, 0.9, 0.9, 0.9, 0.9, 0.9, 0.9, 0.9, 0.9, 0.9, 0.9, 0.9], [0.9, 0.9, 0.9, 0.9, 0.9, 0.9, 0.9, 0.9, 0.9, 0.9, 0.9, 0.9, 0.9, 0.9, 0.9, 0.9, 0.9, 0.9, 0.9, 0.9, 0.9, 0.9, 0.9, 0.9, 0.9, 0.9, 0.9, 0.9], [0.9, 0.9, 0.9, 0.9, 0.9, 0.9, 0.9, 0.9, 0.9, 0.9, 0.9, 0.9, 0.9, 0.9, 0.9, 0.9, 0.9, 0.9, 0.9, 0.9, 0.9, 0.9, 0.9, 0.9, 0.9, 0.9, 0.9, 0.9], [0.9, 0.9, 0.9, 0.9, 0.9, 0.9, 0.9, 0.9, 0.9, 0.9, 1.9, 4.9, 7.9, 11.9, 14.9, 15.9, 14.9, 15.9, 12.9, 6.9, 4.9, 1.9, 0.9, 0.9, 0.9, 0.9, 0.9, 0.9], [0.9, 0.9, 0.9, 0.9, 0.9, 0.9, 0.9, 1.9, 4.9, 11.9, 24.9, 58.9, 100.9, 137.9, 177.9, 202.9, 197.9, 201.9, 171.9, 132.9, 84.9, 53.9, 30.9, 11.9, 2.9, 0.9, 0.9, 0.9], [0.9, 0.9, 0.9, 0.9, 0.9, 0.9, 1.9, 3.9, 13.9, 39.9, 88.9, 130.9, 195.9, 268.9, 325.9, 364.9, 372.9, 361.9, 306.9, 249.9, 171.9, 119.9, 61.9, 26.9, 4.9, 0.9, 0.9, 0.9], [0.9, 0.9, 0.9, 0.9, 2.9, 2.9, 3.9, 11.9, 33.9, 90.9, 151.9, 209.9, 281.9, 346.9, 388.9, 421.9, 430.9, 423.9, 387.9, 335.9, 263.9, 177.9, 108.9, 45.9, 9.9, 0.9, 0.9, 0.9], [0.9, 0.9, 0.9, 0.9, 1.9, 2.9, 6.9, 28.9, 83.9, 146.9, 209.9, 289.9, 363.9, 412.9, 418.9, 428.9, 426.9, 435.9, 421.9, 394.9, 339.9, 245.9, 143.9, 68.9, 18.9, 0.9, 0.9, 0.9], [0.9, 0.9, 0.9, 0.9, 1.9, 4.9, 20.9, 53.9, 122.9, 195.9, 295.9, 351.9, 392.9, 403.9, 389.9, 377.9, 363.9, 382.9, 394.9, 410.9, 364.9, 312.9, 206.9, 94.9, 33.9, 0.9, 0.9, 0.9], [0.9, 0.9, 0.9, 0.9, 1.9, 10.9, 42.9, 108.9, 174.9, 273.9, 355.9, 390.9, 388.9, 358.9, 321.9, 290.9, 275.9, 285.9, 333.9, 386.9, 388.9, 337.9, 257.9, 145.9, 38.9, 0.9, 0.9, 0.9], [0.9, 0.9, 0.9, 0.9, 1.9, 27.9, 73.9, 153.9, 244.9, 338.9, 392.9, 394.9, 351.9, 299.9, 243.9, 186.9, 166.9, 197.9, 254.9, 333.9, 387.9, 367.9, 302.9, 186.9, 51.9, 0.9, 0.9, 0.9], [0.9, 0.9, 0.9, 0.9, 4.9, 47.9, 123.9, 212.9, 308.9, 381.9, 387.9, 350.9, 291.9, 215.9, 160.9, 107.9, 89.9, 113.9, 197.9, 293.9, 376.9, 384.9, 323.9, 203.9, 71.9, 2.9, 1.9, 0.9], [0.9, 0.9, 0.9, 0.9, 7.9, 85.9, 174.9, 270.9, 367.9, 397.9, 362.9, 294.9, 211.9, 135.9, 68.9, 39.9, 39.9, 79.9, 147.9, 261.9, 361.9, 382.9, 336.9, 221.9, 81.9, 3.9, 1.9, 0.9], [0.9, 0.9, 1.9, 0.9, 18.9, 113.9, 218.9, 323.9, 393.9, 389.9, 322.9, 239.9, 137.9, 73.9, 32.9, 19.9, 21.9, 63.9, 140.9, 239.9, 354.9, 385.9, 328.9, 227.9, 91.9, 2.9, 1.9, 0.9], [0.9, 0.9, 0.9, 0.9, 29.9, 157.9, 274.9, 370.9, 398.9, 360.9, 269.9, 170.9, 82.9, 33.9, 13.9, 8.9, 19.9, 75.9, 148.9, 256.9, 352.9, 372.9, 323.9, 220.9, 89.9, 1.9, 0.9, 0.9], [0.9, 0.9, 0.9, 1.9, 39.9, 190.9, 308.9, 389.9, 391.9, 335.9, 219.9, 116.9, 44.9, 16.9, 2.9, 7.9, 29.9, 94.9, 184.9, 283.9, 359.9, 362.9, 299.9, 201.9, 81.9, 1.9, 0.9, 0.9], [0.9, 0.9, 0.9, 1.9, 56.9, 213.9, 335.9, 405.9, 388.9, 299.9, 175.9, 70.9, 32.9, 8.9, 5.9, 25.9, 64.9, 140.9, 239.9, 315.9, 365.9, 343.9, 270.9, 167.9, 66.9, 1.9, 0.9, 0.9], [0.9, 0.9, 0.9, 0.9, 75.9, 230.9, 350.9, 405.9, 380.9, 284.9, 161.9, 67.9, 34.9, 18.9, 30.9, 58.9, 123.9, 225.9, 298.9, 355.9, 370.9, 309.9, 220.9, 131.9, 48.9, 0.9, 0.9, 0.9], [0.9, 0.9, 0.9, 1.9, 80.9, 230.9, 350.9, 409.9, 386.9, 278.9, 170.9, 96.9, 68.9, 63.9, 87.9, 145.9, 229.9, 302.9, 346.9, 376.9, 334.9, 257.9, 174.9, 88.9, 34.9, 1.9, 0.9, 0.9], [0.9, 0.9, 0.9, 2.9, 74.9, 208.9, 336.9, 406.9, 387.9, 334.9, 252.9, 171.9, 152.9, 159.9, 196.9, 263.9, 316.9, 365.9, 387.9, 355.9, 288.9, 195.9, 119.9, 47.9, 16.9, 1.9, 0.9, 0.9], [0.9, 0.9, 0.9, 2.9, 59.9, 179.9, 293.9, 388.9, 416.9, 397.9, 366.9, 315.9, 302.9, 310.9, 333.9, 364.9, 389.9, 402.9, 372.9, 285.9, 202.9, 141.9, 63.9, 24.9, 5.9, 1.9, 1.9, 0.9], [0.9, 0.9, 0.9, 1.9, 40.9, 127.9, 243.9, 344.9, 409.9, 433.9, 434.9, 431.9, 412.9, 401.9, 407.9, 421.9, 414.9, 366.9, 286.9, 207.9, 132.9, 63.9, 30.9, 8.9, 2.9, 1.9, 1.9, 0.9], [0.9, 0.9, 0.9, 1.9, 22.9, 81.9, 163.9, 262.9, 339.9, 399.9, 432.9, 442.9, 441.9, 433.9, 419.9, 393.9, 323.9, 256.9, 176.9, 111.9, 66.9, 31.9, 9.9, 2.9, 0.9, 1.9, 1.9, 0.9], [0.9, 0.9, 0.9, 0.9, 3.9, 29.9, 71.9, 138.9, 220.9, 293.9, 352.9, 370.9, 369.9, 355.9, 316.9, 256.9, 190.9, 117.9, 71.9, 41.9, 16.9, 7.9, 3.9, 1.9, 0.9, 0.9, 0.9, 0.9], [0.9, 0.9, 0.9, 0.9, 2.9, 2.9, 8.9, 15.9, 33.9, 58.9, 75.9, 92.9, 97.9, 91.9, 82.9, 67.9, 41.9, 25.9, 13.9, 6.9, 2.9, 2.9, 1.9, 0.9, 0.9, 0.9, 0.9, 0.9], [0.9, 0.9, 0.9, 0.9, 0.9, 0.9, 0.9, 0.9, 0.9, 1.9, 2.9, 3.9, 3.9, 3.9, 2.9, 2.9, 0.9, 0.9, 0.9, 0.9, 0.9, 0.9, 0.9, 0.9, 0.9, 0.9, 0.9, 0.9], [0.9, 0.9, 0.9, 0.9, 0.9, 0.9, 0.9, 0.9, 0.9, 0.9, 0.9, 0.9, 0.9, 0.9, 0.9, 0.9, 0.9, 0.9, 0.9, 0.9, 0.9, 0.9, 0.9, 0.9, 0.9, 0.9, 0.9, 0.9], [0.9, 0.9, 0.9, 0.9, 0.9, 0.9, 0.9, 0.9, 0.9, 0.9, 0.9, 0.9, 0.9, 0.9, 0.9, 0.9, 0.9, 0.9, 0.9, 0.9, 0.9, 0.9, 0.9, 0.9, 0.9, 0.9, 0.9, 0.9]]\n"
     ]
    }
   ],
   "source": [
    "print(sum([classifier.prior for classifier in classifiers] ))\n",
    "print(classifiers[0].hMap.hMap_count)"
   ]
  },
  {
   "cell_type": "code",
   "execution_count": 42,
   "metadata": {
    "scrolled": true
   },
   "outputs": [
    {
     "name": "stdout",
     "output_type": "stream",
     "text": [
      "0: chances are: -153.37358294784764\n",
      "1: chances are: -108.18750607047035\n",
      "2: chances are: -108.93774228409418\n",
      "3: chances are: -97.06616648972424\n",
      "4: chances are: -73.81772446690626\n",
      "5: chances are: -87.8020148912335\n",
      "6: chances are: -109.41046350990337\n",
      "7: chances are: -77.43755248612925\n",
      "8: chances are: -82.32387802753301\n",
      "9: chances are: -54.492572632569164\n"
     ]
    }
   ],
   "source": [
    "image = testData.images[5]\n",
    "for i in range(10):\n",
    "    #all these negative rn, idk what's wrong\n",
    "    print(str(i) + \": chances are: \" + str(classifiers[i].evaluate_likelihood(image)))"
   ]
  },
  {
   "cell_type": "code",
   "execution_count": 46,
   "metadata": {},
   "outputs": [],
   "source": [
    "predictions = []\n",
    "for image in testData.images:\n",
    "    chances = [0]*10\n",
    "    for i in range(10):\n",
    "        chances[i] = classifiers[i].evaluate_likelihood(image)\n",
    "    label = chances.index(max(chances))\n",
    "    predictions.append(label)\n"
   ]
  },
  {
   "cell_type": "code",
   "execution_count": 69,
   "metadata": {},
   "outputs": [
    {
     "name": "stdout",
     "output_type": "stream",
     "text": [
      "0 label success rate: 98.53862212943632%\n",
      "1 label success rate: 96.0923623445826%\n",
      "2 label success rate: 97.1311475409836%\n",
      "3 label success rate: 93.30628803245436%\n",
      "4 label success rate: 95.70093457943925%\n",
      "5 label success rate: 94.70046082949308%\n",
      "6 label success rate: 96.8063872255489%\n",
      "7 label success rate: 97.81818181818181%\n",
      "8 label success rate: 95.45454545454545%\n",
      "9 label success rate: 88.28282828282828%\n",
      "confusion matrix\n",
      "[0, 0, 1, 0, 1, 5, 3, 0, 4, 0]\n",
      "[0, 0, 1, 0, 0, 2, 1, 0, 0, 0]\n",
      "[1, 3, 0, 4, 1, 0, 6, 1, 5, 2]\n",
      "[0, 2, 0, 0, 0, 3, 2, 6, 2, 6]\n",
      "[0, 1, 0, 0, 0, 0, 3, 1, 2, 18]\n",
      "[2, 2, 1, 12, 3, 0, 1, 1, 2, 6]\n",
      "[1, 6, 4, 0, 4, 5, 0, 0, 2, 0]\n",
      "[0, 6, 3, 0, 3, 0, 0, 0, 3, 14]\n",
      "[2, 1, 3, 14, 2, 6, 0, 1, 0, 12]\n",
      "[1, 1, 1, 3, 9, 2, 0, 2, 1, 0]\n"
     ]
    }
   ],
   "source": [
    "wrongs = [0]*10\n",
    "confusion_matrix = [[0 for i in range(10)] for j in range(10)]\n",
    "for i in range(len(predictions)):\n",
    "    if predictions[i] != int(testData.labels[i]):\n",
    "        wrongs[predictions[i]] +=1\n",
    "        confusion_matrix[int(testData.labels[i])][predictions[i]] +=1\n",
    "\n",
    "\n",
    "for i in range(10):\n",
    "    print(str(i) + \" label success rate: \" + str(100-(100*(wrongs[i]/(digitHMaps[i].totalExamples-2*SMOOTHING_FACTOR)))) + \"%\")\n",
    "\n",
    "print(\"confusion matrix\")\n",
    "for i in range(10):\n",
    "    print(str(confusion_matrix[i]))\n"
   ]
  },
  {
   "cell_type": "code",
   "execution_count": null,
   "metadata": {},
   "outputs": [],
   "source": []
  }
 ],
 "metadata": {
  "kernelspec": {
   "display_name": "Python 3",
   "language": "python",
   "name": "python3"
  },
  "language_info": {
   "codemirror_mode": {
    "name": "ipython",
    "version": 3
   },
   "file_extension": ".py",
   "mimetype": "text/x-python",
   "name": "python",
   "nbconvert_exporter": "python",
   "pygments_lexer": "ipython3",
   "version": "3.5.2"
  }
 },
 "nbformat": 4,
 "nbformat_minor": 2
}
