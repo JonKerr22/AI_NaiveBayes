{
 "cells": [
  {
   "cell_type": "code",
   "execution_count": null,
   "metadata": {
    "collapsed": true
   },
   "outputs": [],
   "source": [
    "import math\n",
    "\n",
    "#this number can be played with for new results if we have time\n",
    "SMOOTHING_FACTOR = 0.9\n",
    "\n",
    "class Dataset:\n",
    "    def __init__(self, images_file, labels_file, lines_per_image = 28):\n",
    "        self.images = []\n",
    "        self.labels = []\n",
    "        self.images_by_label = {}\n",
    "        self.priors = {}\n",
    "        with open(images_file) as file:\n",
    "            EOF = False\n",
    "            while not EOF:\n",
    "                image = []\n",
    "                for i in range(lines_per_image):\n",
    "                    line = file.readline()\n",
    "                    if not line:\n",
    "                        EOF = True\n",
    "                        break\n",
    "                    image.append(list(line))\n",
    "                if EOF:\n",
    "                    break\n",
    "                self.images.append(image)\n",
    "        with open(labels_file) as file:\n",
    "            for line in file:\n",
    "                self.labels.append(line)\n",
    "    def display(self, i):\n",
    "        print(\"\".join(map(lambda x: \"\".join(x),self.images[i])))\n",
    "class Classifier:\n",
    "    def __init__(self, label, hMap, prior):\n",
    "        self.label = label\n",
    "        self.hMap = hMap\n",
    "        self.prior = prior\n",
    "    \n",
    "    #where should I compare the smoothed heatmap to the input image??\n",
    "    def evaluate_likelihood(self, image):\n",
    "        total = math.log10(self.prior)\n",
    "        for i in range(self.hMap.mapSize):\n",
    "            for j in range(self.hMap.mapSize):\n",
    "                partial_eval = self.single_probability(i, j, image[i][j])\n",
    "                if(partial_eval <= 0):\n",
    "                    print(\"bad eval, can't take log at spot: \" + str(i) + \", \" + str(j))\n",
    "                    self.printImage(image)\n",
    "                else:\n",
    "                    y=0\n",
    "                    #print(\"valid logarithm\")\n",
    "                total += math.log10(partial_eval)\n",
    "        return total\n",
    "    \n",
    "    def printImage(self, image):\n",
    "        print(\"\".join(map(lambda x: \"\".join(x),image)))\n",
    "    \n",
    "    def single_probability(self, x, y, testPixel):\n",
    "        if(testPixel == ' '):\n",
    "            #testVal = 0\n",
    "            #number of times a pixel is 0 from all the training examples\n",
    "            instances = self.hMap.totalExamples - self.hMap.hMap_count[x][y]\n",
    "            return float(instances / self.hMap.totalExamples)\n",
    "        elif testPixel != \"\\n\":\n",
    "            #testVal = 1\n",
    "            instances = self.hMap.hMap_count[x][y]\n",
    "            return float(instances / self.hMap.totalExamples)\n",
    "            \n",
    "            \n",
    "class HeatMap:\n",
    "    def __init__(self, label, mapSize = 28):\n",
    "        #initially blank, smoothing will be added later\n",
    "        self.hMap_count = [[SMOOTHING_FACTOR for i in range(mapSize)] for j in range(mapSize)]\n",
    "        self.label = label\n",
    "        self.mapSize = mapSize\n",
    "        self.totalExamples = 2*SMOOTHING_FACTOR\n",
    "                    \n",
    "    def printHMap(self, smoothed = True):\n",
    "        print(\"Heat map for digit: \" + str(self.label) + \" from \" + str(self.totalExamples) + \" examples\")\n",
    "        for i in range(self.mapSize):\n",
    "            if smoothed:\n",
    "                toPrint = \"\"\n",
    "                for j in range(self.mapSize):\n",
    "                    if self.hMap_count[i][j] < 1:\n",
    "                        toPrint += \" \"\n",
    "                    elif self.hMap_count[i][j] < 80:\n",
    "                        toPrint += \"*\"\n",
    "                    else:\n",
    "                        toPrint += \"X\"\n",
    "                print(toPrint)\n",
    "                \n",
    "            else:\n",
    "                toPrint = \"\"\n",
    "                for j in range(self.mapSize):\n",
    "                    if self.hMap_count[i][j] < 3:\n",
    "                        toPrint += \" \"\n",
    "                    elif self.hMap_count[i][j] < 80:\n",
    "                        toPrint += \"*\"\n",
    "                    else:\n",
    "                        toPrint += \"X\"\n",
    "                print(toPrint)\n",
    "\n",
    "    def addToHMap(self, image):\n",
    "        self.totalExamples += 1\n",
    "        for i in range(self.mapSize):\n",
    "            for j in range(self.mapSize):\n",
    "                if(image[i][j] != ' '):\n",
    "                    self.hMap_count[i][j] += 1\n",
    "                \n",
    "    def labelProbability(self, trainingSetSize = 5000):\n",
    "        return (self.totalExamples-2*SMOOTHING_FACTOR) / trainingSetSize\n",
    "    \n",
    "    def goodHMap(self):\n",
    "        for i in range(self.mapSize):\n",
    "            for j in range(self.mapSize):\n",
    "                if(self.hMap_smoothed[i][j] <= 0):\n",
    "                    return False\n",
    "        \n",
    "        return True\n",
    "\n",
    "            \n",
    "        "
   ]
  },
  {
   "cell_type": "code",
   "execution_count": null,
   "metadata": {
    "collapsed": true
   },
   "outputs": [],
   "source": [
    "dataset = Dataset(\"trainingimages\",\"traininglabels\")"
   ]
  },
  {
   "cell_type": "code",
   "execution_count": null,
   "metadata": {
    "collapsed": true
   },
   "outputs": [],
   "source": [
    "digitHMaps = [None]*10\n",
    "for i in range(0,10):\n",
    "    digitHMaps[i] = HeatMap(i)\n",
    "\n",
    "for i  in range(len(dataset.images)):\n",
    "    currLabel = int(dataset.labels[i])\n",
    "    digitHMaps[currLabel].addToHMap(dataset.images[i])  \n",
    "    \n"
   ]
  },
  {
   "cell_type": "code",
   "execution_count": null,
   "metadata": {
    "collapsed": true
   },
   "outputs": [],
   "source": [
    "testData = Dataset(\"testimages\",\"testlabels\")"
   ]
  },
  {
   "cell_type": "code",
   "execution_count": null,
   "metadata": {
    "collapsed": true
   },
   "outputs": [],
   "source": [
    "classifiers = [None]*10\n",
    "for i in range(0,10):\n",
    "    classifiers[i] = Classifier(i, digitHMaps[i], digitHMaps[i].labelProbability())\n",
    "    "
   ]
  },
  {
   "cell_type": "code",
   "execution_count": null,
   "metadata": {},
   "outputs": [],
   "source": [
    "print(sum([classifier.prior for classifier in classifiers] ))\n",
    "print(classifiers[0].hMap.hMap_count)"
   ]
  },
  {
   "cell_type": "code",
   "execution_count": null,
   "metadata": {
    "scrolled": true
   },
   "outputs": [],
   "source": [
    "image = testData.images[5]\n",
    "for i in range(10):\n",
    "    #all these negative rn, idk what's wrong\n",
    "    print(str(i) + \": chances are: \" + str(classifiers[i].evaluate_likelihood(image)))"
   ]
  },
  {
   "cell_type": "code",
   "execution_count": null,
   "metadata": {},
   "outputs": [],
   "source": [
    "testData.display(5)"
   ]
  },
  {
   "cell_type": "code",
   "execution_count": null,
   "metadata": {
    "collapsed": true
   },
   "outputs": [],
   "source": []
  }
 ],
 "metadata": {
  "kernelspec": {
   "display_name": "Python 3",
   "language": "python",
   "name": "python3"
  },
  "language_info": {
   "codemirror_mode": {
    "name": "ipython",
    "version": 3
   },
   "file_extension": ".py",
   "mimetype": "text/x-python",
   "name": "python",
   "nbconvert_exporter": "python",
   "pygments_lexer": "ipython3",
   "version": "3.4.3"
  }
 },
 "nbformat": 4,
 "nbformat_minor": 2
}
